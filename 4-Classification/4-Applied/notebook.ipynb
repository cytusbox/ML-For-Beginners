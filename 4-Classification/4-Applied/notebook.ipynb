{
 "cells": [
  {
   "cell_type": "markdown",
   "metadata": {},
   "source": [
    "# Build a cuisine recommender"
   ]
  },
  {
   "cell_type": "code",
   "execution_count": 4,
   "metadata": {},
   "outputs": [
    {
     "name": "stdout",
     "output_type": "stream",
     "text": [
      "Looking in indexes: https://pypi.tuna.tsinghua.edu.cn/simple\n",
      "Collecting skl2onnx\n",
      "  Using cached https://pypi.tuna.tsinghua.edu.cn/packages/a8/0f/39a22ea2f0fadd252357eb333e487fe229ec03af24823f4090ff714ef54d/skl2onnx-1.11.2-py2.py3-none-any.whl (278 kB)\n",
      "Collecting onnxconverter-common>=1.7.0\n",
      "  Using cached https://pypi.tuna.tsinghua.edu.cn/packages/cc/51/de4e3d84282a6649f4fb73c29b33d96ac1b5e6d30217ed0fff74cc404467/onnxconverter_common-1.9.0-py2.py3-none-any.whl (78 kB)\n",
      "Collecting onnx>=1.2.1\n",
      "  Downloading https://pypi.tuna.tsinghua.edu.cn/packages/e1/5c/e59a175f6b771a59b1e9fc02e76390ceea809a86f492bbf7374af33e0881/onnx-1.12.0-cp37-cp37m-win_amd64.whl (11.5 MB)\n",
      "Requirement already satisfied: scipy>=1.0 in d:\\anaconda\\lib\\site-packages (from skl2onnx) (1.4.1)\n",
      "Requirement already satisfied: numpy>=1.15 in d:\\anaconda\\lib\\site-packages (from skl2onnx) (1.18.1)\n",
      "Requirement already satisfied: scikit-learn>=0.19 in d:\\anaconda\\lib\\site-packages (from skl2onnx) (0.22.1)\n",
      "Requirement already satisfied: protobuf in d:\\anaconda\\lib\\site-packages (from skl2onnx) (3.17.3)\n",
      "Requirement already satisfied: typing-extensions>=3.6.2.1 in d:\\anaconda\\lib\\site-packages (from onnx>=1.2.1->skl2onnx) (4.1.1)\n",
      "Requirement already satisfied: joblib>=0.11 in d:\\anaconda\\lib\\site-packages (from scikit-learn>=0.19->skl2onnx) (0.14.1)\n",
      "Requirement already satisfied: six>=1.9 in d:\\anaconda\\lib\\site-packages (from protobuf->skl2onnx) (1.14.0)\n",
      "Installing collected packages: onnx, onnxconverter-common, skl2onnx\n",
      "Successfully installed onnx-1.12.0 onnxconverter-common-1.9.0 skl2onnx-1.11.2\n",
      "Note: you may need to restart the kernel to use updated packages.\n",
      "              precision    recall  f1-score   support\n",
      "\n",
      "     chinese       0.66      0.69      0.67       239\n",
      "      indian       0.89      0.83      0.86       248\n",
      "    japanese       0.77      0.78      0.78       237\n",
      "      korean       0.84      0.75      0.79       256\n",
      "        thai       0.72      0.82      0.77       219\n",
      "\n",
      "    accuracy                           0.77      1199\n",
      "   macro avg       0.78      0.77      0.77      1199\n",
      "weighted avg       0.78      0.77      0.77      1199\n",
      "\n"
     ]
    }
   ],
   "source": [
    "%pip install skl2onnx\n",
    "import pandas as pd \n",
    "data = pd.read_csv('../data/cleaned_cuisines.csv')\n",
    "data.head()\n",
    "X = data.iloc[:,2:]\n",
    "X.head()\n",
    "y = data[['cuisine']]\n",
    "y.head()\n",
    "from sklearn.model_selection import train_test_split\n",
    "from sklearn.svm import SVC\n",
    "from sklearn.model_selection import cross_val_score\n",
    "from sklearn.metrics import accuracy_score,precision_score,confusion_matrix,classification_report\n",
    "X_train, X_test, y_train, y_test = train_test_split(X,y,test_size=0.3)\n",
    "model = SVC(kernel='linear', C=10, probability=True,random_state=0)\n",
    "model.fit(X_train,y_train.values.ravel())\n",
    "y_pred = model.predict(X_test)\n",
    "print(classification_report(y_test,y_pred))"
   ]
  },
  {
   "cell_type": "code",
   "execution_count": 5,
   "metadata": {},
   "outputs": [],
   "source": [
    "from skl2onnx import convert_sklearn\n",
    "from skl2onnx.common.data_types import FloatTensorType\n",
    "\n",
    "initial_type = [('float_input', FloatTensorType([None, 380]))]\n",
    "options = {id(model): {'nocl': True, 'zipmap': False}}\n",
    "onx = convert_sklearn(model, initial_types=initial_type, options=options)\n",
    "with open(\"./model.onnx\", \"wb\") as f:\n",
    "    f.write(onx.SerializeToString())"
   ]
  }
 ],
 "metadata": {
  "kernelspec": {
   "display_name": "Python 3.7.6 ('base')",
   "language": "python",
   "name": "python3"
  },
  "language_info": {
   "codemirror_mode": {
    "name": "ipython",
    "version": 3
   },
   "file_extension": ".py",
   "mimetype": "text/x-python",
   "name": "python",
   "nbconvert_exporter": "python",
   "pygments_lexer": "ipython3",
   "version": "3.7.6"
  },
  "orig_nbformat": 4,
  "vscode": {
   "interpreter": {
    "hash": "5dfae695991f40f7f711b859ebe4404a578ce2940a1c2f7058c1cb98bd497b2c"
   }
  }
 },
 "nbformat": 4,
 "nbformat_minor": 2
}
