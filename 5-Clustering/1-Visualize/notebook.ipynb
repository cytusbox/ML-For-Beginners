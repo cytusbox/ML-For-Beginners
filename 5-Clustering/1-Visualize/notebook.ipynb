{
 "cells": [
  {
   "cell_type": "markdown",
   "metadata": {},
   "source": [
    "# Nigerian Music scraped from Spotify - an analysis"
   ]
  },
  {
   "cell_type": "code",
   "execution_count": 10,
   "metadata": {},
   "outputs": [
    {
     "name": "stdout",
     "output_type": "stream",
     "text": [
      "<class 'pandas.core.frame.DataFrame'>\n",
      "RangeIndex: 530 entries, 0 to 529\n",
      "Data columns (total 16 columns):\n",
      " #   Column            Non-Null Count  Dtype  \n",
      "---  ------            --------------  -----  \n",
      " 0   name              530 non-null    object \n",
      " 1   album             530 non-null    object \n",
      " 2   artist            530 non-null    object \n",
      " 3   artist_top_genre  530 non-null    object \n",
      " 4   release_date      530 non-null    int64  \n",
      " 5   length            530 non-null    int64  \n",
      " 6   popularity        530 non-null    int64  \n",
      " 7   danceability      530 non-null    float64\n",
      " 8   acousticness      530 non-null    float64\n",
      " 9   energy            530 non-null    float64\n",
      " 10  instrumentalness  530 non-null    float64\n",
      " 11  liveness          530 non-null    float64\n",
      " 12  loudness          530 non-null    float64\n",
      " 13  speechiness       530 non-null    float64\n",
      " 14  tempo             530 non-null    float64\n",
      " 15  time_signature    530 non-null    int64  \n",
      "dtypes: float64(8), int64(4), object(4)\n",
      "memory usage: 66.4+ KB\n"
     ]
    },
    {
     "data": {
      "text/html": [
       "<div>\n",
       "<style scoped>\n",
       "    .dataframe tbody tr th:only-of-type {\n",
       "        vertical-align: middle;\n",
       "    }\n",
       "\n",
       "    .dataframe tbody tr th {\n",
       "        vertical-align: top;\n",
       "    }\n",
       "\n",
       "    .dataframe thead th {\n",
       "        text-align: right;\n",
       "    }\n",
       "</style>\n",
       "<table border=\"1\" class=\"dataframe\">\n",
       "  <thead>\n",
       "    <tr style=\"text-align: right;\">\n",
       "      <th></th>\n",
       "      <th>release_date</th>\n",
       "      <th>length</th>\n",
       "      <th>popularity</th>\n",
       "      <th>danceability</th>\n",
       "      <th>acousticness</th>\n",
       "      <th>energy</th>\n",
       "      <th>instrumentalness</th>\n",
       "      <th>liveness</th>\n",
       "      <th>loudness</th>\n",
       "      <th>speechiness</th>\n",
       "      <th>tempo</th>\n",
       "      <th>time_signature</th>\n",
       "    </tr>\n",
       "  </thead>\n",
       "  <tbody>\n",
       "    <tr>\n",
       "      <th>count</th>\n",
       "      <td>530.000000</td>\n",
       "      <td>530.000000</td>\n",
       "      <td>530.000000</td>\n",
       "      <td>530.000000</td>\n",
       "      <td>530.000000</td>\n",
       "      <td>530.000000</td>\n",
       "      <td>530.000000</td>\n",
       "      <td>530.000000</td>\n",
       "      <td>530.000000</td>\n",
       "      <td>530.000000</td>\n",
       "      <td>530.000000</td>\n",
       "      <td>530.000000</td>\n",
       "    </tr>\n",
       "    <tr>\n",
       "      <th>mean</th>\n",
       "      <td>2015.390566</td>\n",
       "      <td>222298.169811</td>\n",
       "      <td>17.507547</td>\n",
       "      <td>0.741619</td>\n",
       "      <td>0.265412</td>\n",
       "      <td>0.760623</td>\n",
       "      <td>0.016305</td>\n",
       "      <td>0.147308</td>\n",
       "      <td>-4.953011</td>\n",
       "      <td>0.130748</td>\n",
       "      <td>116.487864</td>\n",
       "      <td>3.986792</td>\n",
       "    </tr>\n",
       "    <tr>\n",
       "      <th>std</th>\n",
       "      <td>3.131688</td>\n",
       "      <td>39696.822259</td>\n",
       "      <td>18.992212</td>\n",
       "      <td>0.117522</td>\n",
       "      <td>0.208342</td>\n",
       "      <td>0.148533</td>\n",
       "      <td>0.090321</td>\n",
       "      <td>0.123588</td>\n",
       "      <td>2.464186</td>\n",
       "      <td>0.092939</td>\n",
       "      <td>23.518601</td>\n",
       "      <td>0.333701</td>\n",
       "    </tr>\n",
       "    <tr>\n",
       "      <th>min</th>\n",
       "      <td>1998.000000</td>\n",
       "      <td>89488.000000</td>\n",
       "      <td>0.000000</td>\n",
       "      <td>0.255000</td>\n",
       "      <td>0.000665</td>\n",
       "      <td>0.111000</td>\n",
       "      <td>0.000000</td>\n",
       "      <td>0.028300</td>\n",
       "      <td>-19.362000</td>\n",
       "      <td>0.027800</td>\n",
       "      <td>61.695000</td>\n",
       "      <td>3.000000</td>\n",
       "    </tr>\n",
       "    <tr>\n",
       "      <th>25%</th>\n",
       "      <td>2014.000000</td>\n",
       "      <td>199305.000000</td>\n",
       "      <td>0.000000</td>\n",
       "      <td>0.681000</td>\n",
       "      <td>0.089525</td>\n",
       "      <td>0.669000</td>\n",
       "      <td>0.000000</td>\n",
       "      <td>0.075650</td>\n",
       "      <td>-6.298750</td>\n",
       "      <td>0.059100</td>\n",
       "      <td>102.961250</td>\n",
       "      <td>4.000000</td>\n",
       "    </tr>\n",
       "    <tr>\n",
       "      <th>50%</th>\n",
       "      <td>2016.000000</td>\n",
       "      <td>218509.000000</td>\n",
       "      <td>13.000000</td>\n",
       "      <td>0.761000</td>\n",
       "      <td>0.220500</td>\n",
       "      <td>0.784500</td>\n",
       "      <td>0.000004</td>\n",
       "      <td>0.103500</td>\n",
       "      <td>-4.558500</td>\n",
       "      <td>0.097950</td>\n",
       "      <td>112.714500</td>\n",
       "      <td>4.000000</td>\n",
       "    </tr>\n",
       "    <tr>\n",
       "      <th>75%</th>\n",
       "      <td>2017.000000</td>\n",
       "      <td>242098.500000</td>\n",
       "      <td>31.000000</td>\n",
       "      <td>0.829500</td>\n",
       "      <td>0.403000</td>\n",
       "      <td>0.875750</td>\n",
       "      <td>0.000234</td>\n",
       "      <td>0.164000</td>\n",
       "      <td>-3.331000</td>\n",
       "      <td>0.177000</td>\n",
       "      <td>125.039250</td>\n",
       "      <td>4.000000</td>\n",
       "    </tr>\n",
       "    <tr>\n",
       "      <th>max</th>\n",
       "      <td>2020.000000</td>\n",
       "      <td>511738.000000</td>\n",
       "      <td>73.000000</td>\n",
       "      <td>0.966000</td>\n",
       "      <td>0.954000</td>\n",
       "      <td>0.995000</td>\n",
       "      <td>0.910000</td>\n",
       "      <td>0.811000</td>\n",
       "      <td>0.582000</td>\n",
       "      <td>0.514000</td>\n",
       "      <td>206.007000</td>\n",
       "      <td>5.000000</td>\n",
       "    </tr>\n",
       "  </tbody>\n",
       "</table>\n",
       "</div>"
      ],
      "text/plain": [
       "       release_date         length  popularity  danceability  acousticness  \\\n",
       "count    530.000000     530.000000  530.000000    530.000000    530.000000   \n",
       "mean    2015.390566  222298.169811   17.507547      0.741619      0.265412   \n",
       "std        3.131688   39696.822259   18.992212      0.117522      0.208342   \n",
       "min     1998.000000   89488.000000    0.000000      0.255000      0.000665   \n",
       "25%     2014.000000  199305.000000    0.000000      0.681000      0.089525   \n",
       "50%     2016.000000  218509.000000   13.000000      0.761000      0.220500   \n",
       "75%     2017.000000  242098.500000   31.000000      0.829500      0.403000   \n",
       "max     2020.000000  511738.000000   73.000000      0.966000      0.954000   \n",
       "\n",
       "           energy  instrumentalness    liveness    loudness  speechiness  \\\n",
       "count  530.000000        530.000000  530.000000  530.000000   530.000000   \n",
       "mean     0.760623          0.016305    0.147308   -4.953011     0.130748   \n",
       "std      0.148533          0.090321    0.123588    2.464186     0.092939   \n",
       "min      0.111000          0.000000    0.028300  -19.362000     0.027800   \n",
       "25%      0.669000          0.000000    0.075650   -6.298750     0.059100   \n",
       "50%      0.784500          0.000004    0.103500   -4.558500     0.097950   \n",
       "75%      0.875750          0.000234    0.164000   -3.331000     0.177000   \n",
       "max      0.995000          0.910000    0.811000    0.582000     0.514000   \n",
       "\n",
       "            tempo  time_signature  \n",
       "count  530.000000      530.000000  \n",
       "mean   116.487864        3.986792  \n",
       "std     23.518601        0.333701  \n",
       "min     61.695000        3.000000  \n",
       "25%    102.961250        4.000000  \n",
       "50%    112.714500        4.000000  \n",
       "75%    125.039250        4.000000  \n",
       "max    206.007000        5.000000  "
      ]
     },
     "execution_count": 10,
     "metadata": {},
     "output_type": "execute_result"
    }
   ],
   "source": [
    "import matplotlib.pyplot as plt\n",
    "import pandas as pd\n",
    "\n",
    "df = pd.read_csv(\"../data/nigerian-songs.csv\")\n",
    "df.head()\n",
    "df.info()\n",
    "df.isnull().sum()\n",
    "df.describe()"
   ]
  },
  {
   "cell_type": "code",
   "execution_count": 11,
   "metadata": {},
   "outputs": [
    {
     "data": {
      "text/plain": [
       "Text(0.5, 1.0, 'Top genres')"
      ]
     },
     "execution_count": 11,
     "metadata": {},
     "output_type": "execute_result"
    },
    {
     "data": {
      "image/png": "[encoded data removed]",
      "text/plain": [
       "<Figure size 720x504 with 1 Axes>"
      ]
     },
     "metadata": {
      "needs_background": "light"
     },
     "output_type": "display_data"
    },
    {
     "data": {
      "image/png": "[encoded data removed]",
      "text/plain": [
       "<Figure size 720x504 with 1 Axes>"
      ]
     },
     "metadata": {
      "needs_background": "light"
     },
     "output_type": "display_data"
    }
   ],
   "source": [
    "import seaborn as sns\n",
    "%matplotlib inline\n",
    "top = df['artist_top_genre'].value_counts()\n",
    "plt.figure(figsize=(10,7))\n",
    "sns.barplot(x=top[:5].index,y=top[:5].values)\n",
    "plt.xticks(rotation=45)\n",
    "plt.title('Top genres',color = 'blue')\n",
    "df = df[df['artist_top_genre'] != 'Missing']\n",
    "top = df['artist_top_genre'].value_counts()\n",
    "plt.figure(figsize=(10,7))\n",
    "sns.barplot(x=top.index,y=top.values)\n",
    "plt.xticks(rotation=45)\n",
    "plt.title('Top genres',color = 'blue')"
   ]
  }
 ],
 "metadata": {
  "kernelspec": {
   "display_name": "Python 3.7.6 ('base')",
   "language": "python",
   "name": "python3"
  },
  "language_info": {
   "codemirror_mode": {
    "name": "ipython",
    "version": 3
   },
   "file_extension": ".py",
   "mimetype": "text/x-python",
   "name": "python",
   "nbconvert_exporter": "python",
   "pygments_lexer": "ipython3",
   "version": "3.7.6"
  },
  "orig_nbformat": 2,
  "vscode": {
   "interpreter": {
    "hash": "5dfae695991f40f7f711b859ebe4404a578ce2940a1c2f7058c1cb98bd497b2c"
   }
  }
 },
 "nbformat": 4,
 "nbformat_minor": 2
}
